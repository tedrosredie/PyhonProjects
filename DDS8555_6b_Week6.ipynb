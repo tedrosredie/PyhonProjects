{
  "nbformat": 4,
  "nbformat_minor": 0,
  "metadata": {
    "colab": {
      "provenance": [],
      "gpuType": "T4",
      "authorship_tag": "ABX9TyMO36qZtAgr1z5XbhQMEaM7"
    },
    "kernelspec": {
      "name": "python3",
      "display_name": "Python 3"
    },
    "language_info": {
      "name": "python"
    },
    "accelerator": "GPU"
  },
  "cells": [
    {
      "cell_type": "markdown",
      "source": [
        "# Import required libraries"
      ],
      "metadata": {
        "id": "RsA6vzxYktj1"
      }
    },
    {
      "cell_type": "code",
      "execution_count": null,
      "metadata": {
        "id": "IOuoVdCikokq"
      },
      "outputs": [],
      "source": [
        "# Import required libraries\n",
        "import numpy as np\n",
        "import pandas as pd\n",
        "from sklearn.model_selection import train_test_split\n",
        "from sklearn.metrics import mean_squared_error\n",
        "from sklearn.preprocessing import StandardScaler\n",
        "from sklearn.linear_model import LinearRegression\n",
        "from sklearn.ensemble import BaggingRegressor, RandomForestRegressor, GradientBoostingRegressor\n",
        "from sklearn.datasets import fetch_openml\n",
        "from bartpy.sklearnmodel import SklearnModel as BART\n"
      ]
    },
    {
      "cell_type": "code",
      "source": [
        "# Load Boston Housing dataset (available via OpenML)\n",
        "boston = fetch_openml(name='boston', version=1, as_frame=True)\n",
        "X = pd.DataFrame(boston.data, columns=boston.feature_names)\n",
        "y = boston.target\n"
      ],
      "metadata": {
        "id": "dxBN-tDslLx5"
      },
      "execution_count": 29,
      "outputs": []
    },
    {
      "cell_type": "code",
      "source": [
        "# Split into training (70%) and test (30%) sets\n",
        "X_train, X_test, y_train, y_test = train_test_split(X, y, test_size=0.3, random_state=42)\n"
      ],
      "metadata": {
        "id": "ntPvEMz4lQ3o"
      },
      "execution_count": 31,
      "outputs": []
    },
    {
      "cell_type": "code",
      "source": [
        "# Preprocessing: Scale features only for Linear Regression\n",
        "scaler = StandardScaler()\n",
        "X_train_scaled = scaler.fit_transform(X_train)\n",
        "X_test_scaled = scaler.transform(X_test)\n"
      ],
      "metadata": {
        "id": "iCaq4hFblU-a"
      },
      "execution_count": 32,
      "outputs": []
    },
    {
      "cell_type": "code",
      "source": [
        "# Initialize models\n",
        "models = {\n",
        "    \"Linear Regression\": LinearRegression(),\n",
        "    \"Bagging\": BaggingRegressor(n_estimators=100, random_state=42),\n",
        "    \"Random Forest\": RandomForestRegressor(n_estimators=100, max_features='sqrt', random_state=42),\n",
        "    \"Boosting (GBM)\": GradientBoostingRegressor(n_estimators=100, learning_rate=0.1, max_depth=3, random_state=42),\n",
        "    \"BART\": BART(n_trees=50, n_chains=3, n_samples=100) }\n"
      ],
      "metadata": {
        "id": "XjL8xhholaCO"
      },
      "execution_count": null,
      "outputs": []
    },
    {
      "cell_type": "code",
      "source": [
        "# Train models and evaluate performance\n",
        "results = {}\n",
        "for name, model in models.items():\n",
        "    if name == \"Linear Regression\":\n",
        "        # Use scaled data for linear regression\n",
        "        model.fit(X_train_scaled, y_train)\n",
        "        y_pred = model.predict(X_test_scaled)\n",
        "    else:\n",
        "        # Use original data for tree-based methods\n",
        "        model.fit(X_train, y_train)\n",
        "        y_pred = model.predict(X_test)\n",
        "\n",
        "    rmse = np.sqrt(mean_squared_error(y_test, y_pred))\n",
        "    results[name] = rmse\n"
      ],
      "metadata": {
        "id": "qi-HmFTIlgeD"
      },
      "execution_count": null,
      "outputs": []
    },
    {
      "cell_type": "code",
      "source": [
        "# Display results\n",
        "results_df = pd.DataFrame(results.items(), columns=[\"Method\", \"Test RMSE\"])\n",
        "print(results_df.sort_values(by=\"Test RMSE\"))\n"
      ],
      "metadata": {
        "colab": {
          "base_uri": "https://localhost:8080/"
        },
        "id": "J3lOlCD9lk3c",
        "outputId": "959963ca-6755-4b11-8125-9f6a719ccb45"
      },
      "execution_count": 12,
      "outputs": [
        {
          "output_type": "stream",
          "name": "stdout",
          "text": [
            "Empty DataFrame\n",
            "Columns: [Method, Test RMSE]\n",
            "Index: []\n"
          ]
        }
      ]
    }
  ]
}