{
  "nbformat": 4,
  "nbformat_minor": 0,
  "metadata": {
    "colab": {
      "provenance": [],
      "authorship_tag": "ABX9TyMXWjkqpyDDYlbkEYRTRQus",
      "include_colab_link": true
    },
    "kernelspec": {
      "name": "python3",
      "display_name": "Python 3"
    },
    "language_info": {
      "name": "python"
    }
  },
  "cells": [
    {
      "cell_type": "markdown",
      "metadata": {
        "id": "view-in-github",
        "colab_type": "text"
      },
      "source": [
        "<a href=\"https://colab.research.google.com/github/tedrosredie/PyhonProjects/blob/main/DDS8555_USArrest_Week7b.ipynb\" target=\"_parent\"><img src=\"https://colab.research.google.com/assets/colab-badge.svg\" alt=\"Open In Colab\"/></a>"
      ]
    },
    {
      "cell_type": "code",
      "execution_count": 1,
      "metadata": {
        "id": "HBdLZJP1tiDJ"
      },
      "outputs": [],
      "source": [
        "# Import libraries\n",
        "import pandas as pd\n",
        "import numpy as np\n",
        "import matplotlib.pyplot as plt\n",
        "from scipy.cluster.hierarchy import linkage, dendrogram, fcluster\n",
        "from sklearn.preprocessing import StandardScaler"
      ]
    },
    {
      "cell_type": "code",
      "source": [
        "# Load the dataset\n",
        "url = \"https://raw.githubusercontent.com/vincentarelbundock/Rdatasets/master/csv/datasets/USArrests.csv\"\n",
        "df = pd.read_csv(url, index_col=0)\n",
        "states = df.index\n",
        "X = df.values\n"
      ],
      "metadata": {
        "id": "WzJVbwnhtnCI"
      },
      "execution_count": 2,
      "outputs": []
    },
    {
      "cell_type": "code",
      "source": [
        "# Hierarchical clustering with complete linkage and Euclidean distance\n",
        "Z = linkage(X, method='complete', metric='euclidean')"
      ],
      "metadata": {
        "id": "fYRluTestq6N"
      },
      "execution_count": 3,
      "outputs": []
    },
    {
      "cell_type": "code",
      "source": [
        "# Cut dendrogram to get 3 clusters\n",
        "clusters = fcluster(Z, t=3, criterion='maxclust')\n",
        "cluster_assignments = pd.DataFrame({'State': states, 'Cluster': clusters}).sort_values(['Cluster', 'State'])"
      ],
      "metadata": {
        "id": "NeL1gqsLtuET"
      },
      "execution_count": 4,
      "outputs": []
    },
    {
      "cell_type": "code",
      "source": [
        "# Clustering after scaling variables to have standard deviation 1\n",
        "scaler = StandardScaler(with_mean=False, with_std=True)\n",
        "X_scaled = scaler.fit_transform(X)\n",
        "Z_scaled = linkage(X_scaled, method='complete', metric='euclidean')\n",
        "clusters_scaled = fcluster(Z_scaled, t=3, criterion='maxclust')\n",
        "cluster_assignments_scaled = pd.DataFrame({'State': states, 'Cluster': clusters_scaled}).sort_values(['Cluster', 'State'])\n"
      ],
      "metadata": {
        "id": "7_JfiM7QtzF5"
      },
      "execution_count": 5,
      "outputs": []
    },
    {
      "cell_type": "code",
      "source": [
        "# Display results\n",
        "print(\"Part (b) Cluster Assignments (Original Data):\")\n",
        "print(cluster_assignments)\n",
        "print(\"\\nPart (c) Cluster Assignments (Scaled Data):\")\n",
        "print(cluster_assignments_scaled)"
      ],
      "metadata": {
        "colab": {
          "base_uri": "https://localhost:8080/"
        },
        "id": "lVWFZdiet0-O",
        "outputId": "76db38a6-13fb-4813-8ea4-afd6bfc26661"
      },
      "execution_count": 6,
      "outputs": [
        {
          "output_type": "stream",
          "name": "stdout",
          "text": [
            "Part (b) Cluster Assignments (Original Data):\n",
            "             State  Cluster\n",
            "0          Alabama        1\n",
            "1           Alaska        1\n",
            "2          Arizona        1\n",
            "4       California        1\n",
            "7         Delaware        1\n",
            "8          Florida        1\n",
            "12        Illinois        1\n",
            "17       Louisiana        1\n",
            "19        Maryland        1\n",
            "21        Michigan        1\n",
            "23     Mississippi        1\n",
            "27          Nevada        1\n",
            "30      New Mexico        1\n",
            "31        New York        1\n",
            "32  North Carolina        1\n",
            "39  South Carolina        1\n",
            "3         Arkansas        2\n",
            "5         Colorado        2\n",
            "9          Georgia        2\n",
            "20   Massachusetts        2\n",
            "24        Missouri        2\n",
            "29      New Jersey        2\n",
            "35        Oklahoma        2\n",
            "36          Oregon        2\n",
            "38    Rhode Island        2\n",
            "41       Tennessee        2\n",
            "42           Texas        2\n",
            "45        Virginia        2\n",
            "46      Washington        2\n",
            "49         Wyoming        2\n",
            "6      Connecticut        3\n",
            "10          Hawaii        3\n",
            "11           Idaho        3\n",
            "13         Indiana        3\n",
            "14            Iowa        3\n",
            "15          Kansas        3\n",
            "16        Kentucky        3\n",
            "18           Maine        3\n",
            "22       Minnesota        3\n",
            "25         Montana        3\n",
            "26        Nebraska        3\n",
            "28   New Hampshire        3\n",
            "33    North Dakota        3\n",
            "34            Ohio        3\n",
            "37    Pennsylvania        3\n",
            "40    South Dakota        3\n",
            "43            Utah        3\n",
            "44         Vermont        3\n",
            "47   West Virginia        3\n",
            "48       Wisconsin        3\n",
            "\n",
            "Part (c) Cluster Assignments (Scaled Data):\n",
            "             State  Cluster\n",
            "3         Arkansas        1\n",
            "6      Connecticut        1\n",
            "7         Delaware        1\n",
            "10          Hawaii        1\n",
            "11           Idaho        1\n",
            "13         Indiana        1\n",
            "14            Iowa        1\n",
            "15          Kansas        1\n",
            "16        Kentucky        1\n",
            "18           Maine        1\n",
            "20   Massachusetts        1\n",
            "22       Minnesota        1\n",
            "24        Missouri        1\n",
            "25         Montana        1\n",
            "26        Nebraska        1\n",
            "28   New Hampshire        1\n",
            "29      New Jersey        1\n",
            "33    North Dakota        1\n",
            "34            Ohio        1\n",
            "35        Oklahoma        1\n",
            "36          Oregon        1\n",
            "37    Pennsylvania        1\n",
            "38    Rhode Island        1\n",
            "40    South Dakota        1\n",
            "43            Utah        1\n",
            "44         Vermont        1\n",
            "45        Virginia        1\n",
            "46      Washington        1\n",
            "47   West Virginia        1\n",
            "48       Wisconsin        1\n",
            "49         Wyoming        1\n",
            "2          Arizona        2\n",
            "4       California        2\n",
            "5         Colorado        2\n",
            "8          Florida        2\n",
            "12        Illinois        2\n",
            "19        Maryland        2\n",
            "21        Michigan        2\n",
            "27          Nevada        2\n",
            "30      New Mexico        2\n",
            "31        New York        2\n",
            "42           Texas        2\n",
            "0          Alabama        3\n",
            "1           Alaska        3\n",
            "9          Georgia        3\n",
            "17       Louisiana        3\n",
            "23     Mississippi        3\n",
            "32  North Carolina        3\n",
            "39  South Carolina        3\n",
            "41       Tennessee        3\n"
          ]
        }
      ]
    },
    {
      "cell_type": "code",
      "source": [
        "# Dendrograms for visualization\n",
        "plt.figure(figsize=(18, 8))\n",
        "plt.subplot(1, 2, 1)\n",
        "dendrogram(Z, labels=states.tolist(), truncate_mode='lastp', p=12)\n",
        "plt.title('Original Data')\n",
        "plt.subplot(1, 2, 2)\n",
        "dendrogram(Z_scaled, labels=states.tolist(), truncate_mode='lastp', p=12)\n",
        "plt.title('Scaled Data (Std=1)')\n",
        "plt.show()"
      ],
      "metadata": {
        "colab": {
          "base_uri": "https://localhost:8080/",
          "height": 703
        },
        "id": "4hfthzttt6T9",
        "outputId": "bf848a75-cd2f-4b11-cc60-0b8e096be6f6"
      },
      "execution_count": 7,
      "outputs": [
        {
          "output_type": "display_data",
          "data": {
            "text/plain": [
              "<Figure size 1800x800 with 2 Axes>"
            ],
            "image/png": "[encoded data removed]"
          },
          "metadata": {}
        }
      ]
    },
    {
      "cell_type": "markdown",
      "source": [
        "### **Interpretation of Clusters**\n",
        "**Unscaled Data Clusters**\n",
        "\n",
        "•\tCluster 3 (High Crime): Southern and Western states (e.g., Florida, California) with high population density and tourism, correlating with elevated violent crime.\n",
        "\n",
        "•\tCluster 1 (Low Crime): Rural Northeastern states with lower urbanization.\n",
        "\n",
        "**Scaled Data Clusters**\n",
        "\n",
        "•\tCluster 1 (Low Urban, Moderate Crime): Southern states with moderate crime rates but low urbanization.\n",
        "\n",
        "•\tCluster 3 (Extreme Crime): States like Alaska (high rape rates) and Maryland (high murder rates) stand out when variables are normalized.\n"
      ],
      "metadata": {
        "id": "NZC-BHV9CR-2"
      }
    }
  ]
}