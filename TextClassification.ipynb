{
  "nbformat": 4,
  "nbformat_minor": 0,
  "metadata": {
    "colab": {
      "provenance": [],
      "authorship_tag": "ABX9TyOQl/m49y0G4w+nhzTNybq6"
    },
    "kernelspec": {
      "name": "python3",
      "display_name": "Python 3"
    },
    "language_info": {
      "name": "python"
    }
  },
  "cells": [
    {
      "cell_type": "markdown",
      "source": [
        "# **Classification of Text Documents using Naive Bayes**\n",
        "\n",
        "In natural language processing and machine learning Naive Bayes is a popular method for classifying text documents. It can be used to classifies documents into pre defined types based on likelihood of a word occurring by using Bayes theorem. In this article we will implement Text Classification using Naive Bayes in Python.\n",
        "\n",
        "![Text-Classification-using-naive-bayes.webp](data:image/webp;base64,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)"
      ],
      "metadata": {
        "id": "PEN3mW0Ncbdw"
      }
    },
    {
      "cell_type": "markdown",
      "source": [
        "**1. Importing Libraries**\n",
        "\n",
        "We will need to import the necessary libraries like scikit-learn, Pandas and Numpy.\n",
        "\n",
        "* CountVectorizer to convert text data into numerical features using word counts.\n",
        "* MultinomialNB: The Naive Bayes classifier for multinomial data and is ideal for text classification."
      ],
      "metadata": {
        "id": "uUbv1CAZZbHY"
      }
    },
    {
      "cell_type": "code",
      "execution_count": 11,
      "metadata": {
        "id": "QO0afbYaX1HW"
      },
      "outputs": [],
      "source": [
        "import pandas as pd\n",
        "import numpy as np\n",
        "from sklearn.model_selection import train_test_split\n",
        "from sklearn.feature_extraction.text import CountVectorizer\n",
        "from sklearn.naive_bayes import MultinomialNB\n",
        "from sklearn.metrics import accuracy_score, confusion_matrix\n",
        "from sklearn.feature_extraction.text import CountVectorizer\n",
        "from matplotlib import pyplot as plt\n",
        "from seaborn import heatmap\n",
        "import seaborn as sns"
      ]
    },
    {
      "cell_type": "markdown",
      "source": [
        "**2. Loading the Dataset**\n",
        "\n",
        "Here we will load our dataset."
      ],
      "metadata": {
        "id": "p18rPVX9Zthx"
      }
    },
    {
      "cell_type": "code",
      "source": [
        "data = pd.read_csv('/content/sample_data/synthetic_text_data.csv')\n",
        "X = data['text']\n",
        "y = data['label']"
      ],
      "metadata": {
        "id": "CyqF99JdYKnV"
      },
      "execution_count": 2,
      "outputs": []
    },
    {
      "cell_type": "markdown",
      "source": [
        "**3. Splitting the Data**\n",
        "\n",
        "Now we split the dataset into training and testing sets. The training set is used to train the model while the testing set is used to evaluate its performance.\n",
        "\n",
        "* train_test_split: Splits the data into training (80%) and testing (20%) sets.\n",
        "* random_state: ensures reproducibility."
      ],
      "metadata": {
        "id": "2y-9I7_WZyEz"
      }
    },
    {
      "cell_type": "code",
      "source": [
        "X_train, X_test, y_train, y_test = train_test_split(X, y, test_size=0.2, random_state=42)"
      ],
      "metadata": {
        "id": "x4urFaS2YUY-"
      },
      "execution_count": 3,
      "outputs": []
    },
    {
      "cell_type": "markdown",
      "source": [],
      "metadata": {
        "id": "0GUkyu3RaXM1"
      }
    },
    {
      "cell_type": "markdown",
      "source": [
        "**4. Text Preprocessing: Converting Text to Numeric Features**\n",
        "\n",
        "We need to convert the text data into numerical format before feeding it to the model. We use CountVectorizer to convert the text into a matrix of token counts.\n",
        "\n",
        "* CountVectorizer(): Converts the raw text into a matrix of word counts.\n",
        "* fit_transform(): Learns the vocabulary from the training data and transforms the text into vector.\n",
        "* transform(): Applies the learned vocabulary from the training data to the test data."
      ],
      "metadata": {
        "id": "ltUhjjngagBP"
      }
    },
    {
      "cell_type": "code",
      "source": [
        "vectorizer = CountVectorizer()\n",
        "X_train_vectorized = vectorizer.fit_transform(X_train)\n",
        "X_test_vectorized = vectorizer.transform(X_test)"
      ],
      "metadata": {
        "id": "N5MpcXpkYfrY"
      },
      "execution_count": 5,
      "outputs": []
    },
    {
      "cell_type": "markdown",
      "source": [
        "**5. Training the Naive Bayes Classifier**\n",
        "\n",
        "With the data now in the right format we train the Naive Bayes classifier on the training data. Here we use Multinomial Naive Bayes."
      ],
      "metadata": {
        "id": "39FmZ54MajpU"
      }
    },
    {
      "cell_type": "code",
      "source": [
        "model = MultinomialNB()\n",
        "model.fit(X_train_vectorized, y_train)"
      ],
      "metadata": {
        "colab": {
          "base_uri": "https://localhost:8080/",
          "height": 80
        },
        "id": "qNI6JCo-Yjl6",
        "outputId": "0c2882ff-0cad-4075-a567-195f5e84ad04"
      },
      "execution_count": 6,
      "outputs": [
        {
          "output_type": "execute_result",
          "data": {
            "text/plain": [
              "MultinomialNB()"
            ],
            "text/html": [
              "<style>#sk-container-id-1 {\n",
              "  /* Definition of color scheme common for light and dark mode */\n",
              "  --sklearn-color-text: #000;\n",
              "  --sklearn-color-text-muted: #666;\n",
              "  --sklearn-color-line: gray;\n",
              "  /* Definition of color scheme for unfitted estimators */\n",
              "  --sklearn-color-unfitted-level-0: #fff5e6;\n",
              "  --sklearn-color-unfitted-level-1: #f6e4d2;\n",
              "  --sklearn-color-unfitted-level-2: #ffe0b3;\n",
              "  --sklearn-color-unfitted-level-3: chocolate;\n",
              "  /* Definition of color scheme for fitted estimators */\n",
              "  --sklearn-color-fitted-level-0: #f0f8ff;\n",
              "  --sklearn-color-fitted-level-1: #d4ebff;\n",
              "  --sklearn-color-fitted-level-2: #b3dbfd;\n",
              "  --sklearn-color-fitted-level-3: cornflowerblue;\n",
              "\n",
              "  /* Specific color for light theme */\n",
              "  --sklearn-color-text-on-default-background: var(--sg-text-color, var(--theme-code-foreground, var(--jp-content-font-color1, black)));\n",
              "  --sklearn-color-background: var(--sg-background-color, var(--theme-background, var(--jp-layout-color0, white)));\n",
              "  --sklearn-color-border-box: var(--sg-text-color, var(--theme-code-foreground, var(--jp-content-font-color1, black)));\n",
              "  --sklearn-color-icon: #696969;\n",
              "\n",
              "  @media (prefers-color-scheme: dark) {\n",
              "    /* Redefinition of color scheme for dark theme */\n",
              "    --sklearn-color-text-on-default-background: var(--sg-text-color, var(--theme-code-foreground, var(--jp-content-font-color1, white)));\n",
              "    --sklearn-color-background: var(--sg-background-color, var(--theme-background, var(--jp-layout-color0, #111)));\n",
              "    --sklearn-color-border-box: var(--sg-text-color, var(--theme-code-foreground, var(--jp-content-font-color1, white)));\n",
              "    --sklearn-color-icon: #878787;\n",
              "  }\n",
              "}\n",
              "\n",
              "#sk-container-id-1 {\n",
              "  color: var(--sklearn-color-text);\n",
              "}\n",
              "\n",
              "#sk-container-id-1 pre {\n",
              "  padding: 0;\n",
              "}\n",
              "\n",
              "#sk-container-id-1 input.sk-hidden--visually {\n",
              "  border: 0;\n",
              "  clip: rect(1px 1px 1px 1px);\n",
              "  clip: rect(1px, 1px, 1px, 1px);\n",
              "  height: 1px;\n",
              "  margin: -1px;\n",
              "  overflow: hidden;\n",
              "  padding: 0;\n",
              "  position: absolute;\n",
              "  width: 1px;\n",
              "}\n",
              "\n",
              "#sk-container-id-1 div.sk-dashed-wrapped {\n",
              "  border: 1px dashed var(--sklearn-color-line);\n",
              "  margin: 0 0.4em 0.5em 0.4em;\n",
              "  box-sizing: border-box;\n",
              "  padding-bottom: 0.4em;\n",
              "  background-color: var(--sklearn-color-background);\n",
              "}\n",
              "\n",
              "#sk-container-id-1 div.sk-container {\n",
              "  /* jupyter's `normalize.less` sets `[hidden] { display: none; }`\n",
              "     but bootstrap.min.css set `[hidden] { display: none !important; }`\n",
              "     so we also need the `!important` here to be able to override the\n",
              "     default hidden behavior on the sphinx rendered scikit-learn.org.\n",
              "     See: https://github.com/scikit-learn/scikit-learn/issues/21755 */\n",
              "  display: inline-block !important;\n",
              "  position: relative;\n",
              "}\n",
              "\n",
              "#sk-container-id-1 div.sk-text-repr-fallback {\n",
              "  display: none;\n",
              "}\n",
              "\n",
              "div.sk-parallel-item,\n",
              "div.sk-serial,\n",
              "div.sk-item {\n",
              "  /* draw centered vertical line to link estimators */\n",
              "  background-image: linear-gradient(var(--sklearn-color-text-on-default-background), var(--sklearn-color-text-on-default-background));\n",
              "  background-size: 2px 100%;\n",
              "  background-repeat: no-repeat;\n",
              "  background-position: center center;\n",
              "}\n",
              "\n",
              "/* Parallel-specific style estimator block */\n",
              "\n",
              "#sk-container-id-1 div.sk-parallel-item::after {\n",
              "  content: \"\";\n",
              "  width: 100%;\n",
              "  border-bottom: 2px solid var(--sklearn-color-text-on-default-background);\n",
              "  flex-grow: 1;\n",
              "}\n",
              "\n",
              "#sk-container-id-1 div.sk-parallel {\n",
              "  display: flex;\n",
              "  align-items: stretch;\n",
              "  justify-content: center;\n",
              "  background-color: var(--sklearn-color-background);\n",
              "  position: relative;\n",
              "}\n",
              "\n",
              "#sk-container-id-1 div.sk-parallel-item {\n",
              "  display: flex;\n",
              "  flex-direction: column;\n",
              "}\n",
              "\n",
              "#sk-container-id-1 div.sk-parallel-item:first-child::after {\n",
              "  align-self: flex-end;\n",
              "  width: 50%;\n",
              "}\n",
              "\n",
              "#sk-container-id-1 div.sk-parallel-item:last-child::after {\n",
              "  align-self: flex-start;\n",
              "  width: 50%;\n",
              "}\n",
              "\n",
              "#sk-container-id-1 div.sk-parallel-item:only-child::after {\n",
              "  width: 0;\n",
              "}\n",
              "\n",
              "/* Serial-specific style estimator block */\n",
              "\n",
              "#sk-container-id-1 div.sk-serial {\n",
              "  display: flex;\n",
              "  flex-direction: column;\n",
              "  align-items: center;\n",
              "  background-color: var(--sklearn-color-background);\n",
              "  padding-right: 1em;\n",
              "  padding-left: 1em;\n",
              "}\n",
              "\n",
              "\n",
              "/* Toggleable style: style used for estimator/Pipeline/ColumnTransformer box that is\n",
              "clickable and can be expanded/collapsed.\n",
              "- Pipeline and ColumnTransformer use this feature and define the default style\n",
              "- Estimators will overwrite some part of the style using the `sk-estimator` class\n",
              "*/\n",
              "\n",
              "/* Pipeline and ColumnTransformer style (default) */\n",
              "\n",
              "#sk-container-id-1 div.sk-toggleable {\n",
              "  /* Default theme specific background. It is overwritten whether we have a\n",
              "  specific estimator or a Pipeline/ColumnTransformer */\n",
              "  background-color: var(--sklearn-color-background);\n",
              "}\n",
              "\n",
              "/* Toggleable label */\n",
              "#sk-container-id-1 label.sk-toggleable__label {\n",
              "  cursor: pointer;\n",
              "  display: flex;\n",
              "  width: 100%;\n",
              "  margin-bottom: 0;\n",
              "  padding: 0.5em;\n",
              "  box-sizing: border-box;\n",
              "  text-align: center;\n",
              "  align-items: start;\n",
              "  justify-content: space-between;\n",
              "  gap: 0.5em;\n",
              "}\n",
              "\n",
              "#sk-container-id-1 label.sk-toggleable__label .caption {\n",
              "  font-size: 0.6rem;\n",
              "  font-weight: lighter;\n",
              "  color: var(--sklearn-color-text-muted);\n",
              "}\n",
              "\n",
              "#sk-container-id-1 label.sk-toggleable__label-arrow:before {\n",
              "  /* Arrow on the left of the label */\n",
              "  content: \"▸\";\n",
              "  float: left;\n",
              "  margin-right: 0.25em;\n",
              "  color: var(--sklearn-color-icon);\n",
              "}\n",
              "\n",
              "#sk-container-id-1 label.sk-toggleable__label-arrow:hover:before {\n",
              "  color: var(--sklearn-color-text);\n",
              "}\n",
              "\n",
              "/* Toggleable content - dropdown */\n",
              "\n",
              "#sk-container-id-1 div.sk-toggleable__content {\n",
              "  max-height: 0;\n",
              "  max-width: 0;\n",
              "  overflow: hidden;\n",
              "  text-align: left;\n",
              "  /* unfitted */\n",
              "  background-color: var(--sklearn-color-unfitted-level-0);\n",
              "}\n",
              "\n",
              "#sk-container-id-1 div.sk-toggleable__content.fitted {\n",
              "  /* fitted */\n",
              "  background-color: var(--sklearn-color-fitted-level-0);\n",
              "}\n",
              "\n",
              "#sk-container-id-1 div.sk-toggleable__content pre {\n",
              "  margin: 0.2em;\n",
              "  border-radius: 0.25em;\n",
              "  color: var(--sklearn-color-text);\n",
              "  /* unfitted */\n",
              "  background-color: var(--sklearn-color-unfitted-level-0);\n",
              "}\n",
              "\n",
              "#sk-container-id-1 div.sk-toggleable__content.fitted pre {\n",
              "  /* unfitted */\n",
              "  background-color: var(--sklearn-color-fitted-level-0);\n",
              "}\n",
              "\n",
              "#sk-container-id-1 input.sk-toggleable__control:checked~div.sk-toggleable__content {\n",
              "  /* Expand drop-down */\n",
              "  max-height: 200px;\n",
              "  max-width: 100%;\n",
              "  overflow: auto;\n",
              "}\n",
              "\n",
              "#sk-container-id-1 input.sk-toggleable__control:checked~label.sk-toggleable__label-arrow:before {\n",
              "  content: \"▾\";\n",
              "}\n",
              "\n",
              "/* Pipeline/ColumnTransformer-specific style */\n",
              "\n",
              "#sk-container-id-1 div.sk-label input.sk-toggleable__control:checked~label.sk-toggleable__label {\n",
              "  color: var(--sklearn-color-text);\n",
              "  background-color: var(--sklearn-color-unfitted-level-2);\n",
              "}\n",
              "\n",
              "#sk-container-id-1 div.sk-label.fitted input.sk-toggleable__control:checked~label.sk-toggleable__label {\n",
              "  background-color: var(--sklearn-color-fitted-level-2);\n",
              "}\n",
              "\n",
              "/* Estimator-specific style */\n",
              "\n",
              "/* Colorize estimator box */\n",
              "#sk-container-id-1 div.sk-estimator input.sk-toggleable__control:checked~label.sk-toggleable__label {\n",
              "  /* unfitted */\n",
              "  background-color: var(--sklearn-color-unfitted-level-2);\n",
              "}\n",
              "\n",
              "#sk-container-id-1 div.sk-estimator.fitted input.sk-toggleable__control:checked~label.sk-toggleable__label {\n",
              "  /* fitted */\n",
              "  background-color: var(--sklearn-color-fitted-level-2);\n",
              "}\n",
              "\n",
              "#sk-container-id-1 div.sk-label label.sk-toggleable__label,\n",
              "#sk-container-id-1 div.sk-label label {\n",
              "  /* The background is the default theme color */\n",
              "  color: var(--sklearn-color-text-on-default-background);\n",
              "}\n",
              "\n",
              "/* On hover, darken the color of the background */\n",
              "#sk-container-id-1 div.sk-label:hover label.sk-toggleable__label {\n",
              "  color: var(--sklearn-color-text);\n",
              "  background-color: var(--sklearn-color-unfitted-level-2);\n",
              "}\n",
              "\n",
              "/* Label box, darken color on hover, fitted */\n",
              "#sk-container-id-1 div.sk-label.fitted:hover label.sk-toggleable__label.fitted {\n",
              "  color: var(--sklearn-color-text);\n",
              "  background-color: var(--sklearn-color-fitted-level-2);\n",
              "}\n",
              "\n",
              "/* Estimator label */\n",
              "\n",
              "#sk-container-id-1 div.sk-label label {\n",
              "  font-family: monospace;\n",
              "  font-weight: bold;\n",
              "  display: inline-block;\n",
              "  line-height: 1.2em;\n",
              "}\n",
              "\n",
              "#sk-container-id-1 div.sk-label-container {\n",
              "  text-align: center;\n",
              "}\n",
              "\n",
              "/* Estimator-specific */\n",
              "#sk-container-id-1 div.sk-estimator {\n",
              "  font-family: monospace;\n",
              "  border: 1px dotted var(--sklearn-color-border-box);\n",
              "  border-radius: 0.25em;\n",
              "  box-sizing: border-box;\n",
              "  margin-bottom: 0.5em;\n",
              "  /* unfitted */\n",
              "  background-color: var(--sklearn-color-unfitted-level-0);\n",
              "}\n",
              "\n",
              "#sk-container-id-1 div.sk-estimator.fitted {\n",
              "  /* fitted */\n",
              "  background-color: var(--sklearn-color-fitted-level-0);\n",
              "}\n",
              "\n",
              "/* on hover */\n",
              "#sk-container-id-1 div.sk-estimator:hover {\n",
              "  /* unfitted */\n",
              "  background-color: var(--sklearn-color-unfitted-level-2);\n",
              "}\n",
              "\n",
              "#sk-container-id-1 div.sk-estimator.fitted:hover {\n",
              "  /* fitted */\n",
              "  background-color: var(--sklearn-color-fitted-level-2);\n",
              "}\n",
              "\n",
              "/* Specification for estimator info (e.g. \"i\" and \"?\") */\n",
              "\n",
              "/* Common style for \"i\" and \"?\" */\n",
              "\n",
              ".sk-estimator-doc-link,\n",
              "a:link.sk-estimator-doc-link,\n",
              "a:visited.sk-estimator-doc-link {\n",
              "  float: right;\n",
              "  font-size: smaller;\n",
              "  line-height: 1em;\n",
              "  font-family: monospace;\n",
              "  background-color: var(--sklearn-color-background);\n",
              "  border-radius: 1em;\n",
              "  height: 1em;\n",
              "  width: 1em;\n",
              "  text-decoration: none !important;\n",
              "  margin-left: 0.5em;\n",
              "  text-align: center;\n",
              "  /* unfitted */\n",
              "  border: var(--sklearn-color-unfitted-level-1) 1pt solid;\n",
              "  color: var(--sklearn-color-unfitted-level-1);\n",
              "}\n",
              "\n",
              ".sk-estimator-doc-link.fitted,\n",
              "a:link.sk-estimator-doc-link.fitted,\n",
              "a:visited.sk-estimator-doc-link.fitted {\n",
              "  /* fitted */\n",
              "  border: var(--sklearn-color-fitted-level-1) 1pt solid;\n",
              "  color: var(--sklearn-color-fitted-level-1);\n",
              "}\n",
              "\n",
              "/* On hover */\n",
              "div.sk-estimator:hover .sk-estimator-doc-link:hover,\n",
              ".sk-estimator-doc-link:hover,\n",
              "div.sk-label-container:hover .sk-estimator-doc-link:hover,\n",
              ".sk-estimator-doc-link:hover {\n",
              "  /* unfitted */\n",
              "  background-color: var(--sklearn-color-unfitted-level-3);\n",
              "  color: var(--sklearn-color-background);\n",
              "  text-decoration: none;\n",
              "}\n",
              "\n",
              "div.sk-estimator.fitted:hover .sk-estimator-doc-link.fitted:hover,\n",
              ".sk-estimator-doc-link.fitted:hover,\n",
              "div.sk-label-container:hover .sk-estimator-doc-link.fitted:hover,\n",
              ".sk-estimator-doc-link.fitted:hover {\n",
              "  /* fitted */\n",
              "  background-color: var(--sklearn-color-fitted-level-3);\n",
              "  color: var(--sklearn-color-background);\n",
              "  text-decoration: none;\n",
              "}\n",
              "\n",
              "/* Span, style for the box shown on hovering the info icon */\n",
              ".sk-estimator-doc-link span {\n",
              "  display: none;\n",
              "  z-index: 9999;\n",
              "  position: relative;\n",
              "  font-weight: normal;\n",
              "  right: .2ex;\n",
              "  padding: .5ex;\n",
              "  margin: .5ex;\n",
              "  width: min-content;\n",
              "  min-width: 20ex;\n",
              "  max-width: 50ex;\n",
              "  color: var(--sklearn-color-text);\n",
              "  box-shadow: 2pt 2pt 4pt #999;\n",
              "  /* unfitted */\n",
              "  background: var(--sklearn-color-unfitted-level-0);\n",
              "  border: .5pt solid var(--sklearn-color-unfitted-level-3);\n",
              "}\n",
              "\n",
              ".sk-estimator-doc-link.fitted span {\n",
              "  /* fitted */\n",
              "  background: var(--sklearn-color-fitted-level-0);\n",
              "  border: var(--sklearn-color-fitted-level-3);\n",
              "}\n",
              "\n",
              ".sk-estimator-doc-link:hover span {\n",
              "  display: block;\n",
              "}\n",
              "\n",
              "/* \"?\"-specific style due to the `<a>` HTML tag */\n",
              "\n",
              "#sk-container-id-1 a.estimator_doc_link {\n",
              "  float: right;\n",
              "  font-size: 1rem;\n",
              "  line-height: 1em;\n",
              "  font-family: monospace;\n",
              "  background-color: var(--sklearn-color-background);\n",
              "  border-radius: 1rem;\n",
              "  height: 1rem;\n",
              "  width: 1rem;\n",
              "  text-decoration: none;\n",
              "  /* unfitted */\n",
              "  color: var(--sklearn-color-unfitted-level-1);\n",
              "  border: var(--sklearn-color-unfitted-level-1) 1pt solid;\n",
              "}\n",
              "\n",
              "#sk-container-id-1 a.estimator_doc_link.fitted {\n",
              "  /* fitted */\n",
              "  border: var(--sklearn-color-fitted-level-1) 1pt solid;\n",
              "  color: var(--sklearn-color-fitted-level-1);\n",
              "}\n",
              "\n",
              "/* On hover */\n",
              "#sk-container-id-1 a.estimator_doc_link:hover {\n",
              "  /* unfitted */\n",
              "  background-color: var(--sklearn-color-unfitted-level-3);\n",
              "  color: var(--sklearn-color-background);\n",
              "  text-decoration: none;\n",
              "}\n",
              "\n",
              "#sk-container-id-1 a.estimator_doc_link.fitted:hover {\n",
              "  /* fitted */\n",
              "  background-color: var(--sklearn-color-fitted-level-3);\n",
              "}\n",
              "</style><div id=\"sk-container-id-1\" class=\"sk-top-container\"><div class=\"sk-text-repr-fallback\"><pre>MultinomialNB()</pre><b>In a Jupyter environment, please rerun this cell to show the HTML representation or trust the notebook. <br />On GitHub, the HTML representation is unable to render, please try loading this page with nbviewer.org.</b></div><div class=\"sk-container\" hidden><div class=\"sk-item\"><div class=\"sk-estimator fitted sk-toggleable\"><input class=\"sk-toggleable__control sk-hidden--visually\" id=\"sk-estimator-id-1\" type=\"checkbox\" checked><label for=\"sk-estimator-id-1\" class=\"sk-toggleable__label fitted sk-toggleable__label-arrow\"><div><div>MultinomialNB</div></div><div><a class=\"sk-estimator-doc-link fitted\" rel=\"noreferrer\" target=\"_blank\" href=\"https://scikit-learn.org/1.6/modules/generated/sklearn.naive_bayes.MultinomialNB.html\">?<span>Documentation for MultinomialNB</span></a><span class=\"sk-estimator-doc-link fitted\">i<span>Fitted</span></span></div></label><div class=\"sk-toggleable__content fitted\"><pre>MultinomialNB()</pre></div> </div></div></div></div>"
            ]
          },
          "metadata": {},
          "execution_count": 6
        }
      ]
    },
    {
      "cell_type": "markdown",
      "source": [
        "**6. Making Predictions**\n",
        "\n",
        "Now that the model is trained we can use it to predict the labels for the test data using X_test_vectorized."
      ],
      "metadata": {
        "id": "mbOOSw6Ia9sL"
      }
    },
    {
      "cell_type": "code",
      "source": [
        "y_pred = model.predict(X_test_vectorized)"
      ],
      "metadata": {
        "id": "XNgXMnNVYm1e"
      },
      "execution_count": 7,
      "outputs": []
    },
    {
      "cell_type": "markdown",
      "source": [
        "**7. Evaluating the Model**\n",
        "\n",
        "After making predictions we need to evaluate the model's performance. We'll calculate the accuracy and confusion matrix to understand how well the model is performing.\n",
        "\n",
        "* accuracy_score(): Calculates the accuracy of the model by comparing the predicted labels (y_pred) with the true labels (y_test).\n",
        "* confusion_matrix(): Generates a confusion matrix to visualize how well the model classifies each category."
      ],
      "metadata": {
        "id": "ppsweFu2baOl"
      }
    },
    {
      "cell_type": "code",
      "source": [
        "accuracy = accuracy_score(y_test, y_pred)\n",
        "conf_matrix = confusion_matrix(y_test, y_pred)\n",
        "\n",
        "print(f'Accuracy: {accuracy *100}%')\n",
        "\n",
        "class_labels = np.unique(y_test)\n",
        "\n",
        "plt.figure(figsize=(8, 6))\n",
        "sns.heatmap(conf_matrix, annot=True, fmt='d', cmap='Blues', xticklabels=class_labels, yticklabels=class_labels)\n",
        "plt.title('Confusion Matrix Heatmap')\n",
        "plt.xlabel('Predicted Label')\n",
        "plt.ylabel('True Label')\n",
        "plt.show()"
      ],
      "metadata": {
        "colab": {
          "base_uri": "https://localhost:8080/",
          "height": 581
        },
        "id": "Z51OLWaXYtL8",
        "outputId": "1372f62d-04c6-4661-ce49-b5ca9a375e9f"
      },
      "execution_count": 12,
      "outputs": [
        {
          "output_type": "stream",
          "name": "stdout",
          "text": [
            "Accuracy: 88.23529411764706%\n"
          ]
        },
        {
          "output_type": "display_data",
          "data": {
            "text/plain": [
              "<Figure size 800x600 with 2 Axes>"
            ],
            "image/png": "[encoded data removed]"
          },
          "metadata": {}
        }
      ]
    },
    {
      "cell_type": "markdown",
      "source": [
        "**8. Prediction on Unseen Data**"
      ],
      "metadata": {
        "id": "iSJRA66JcMXn"
      }
    },
    {
      "cell_type": "code",
      "source": [
        "user_input = (\"I love artificial intelligence and machine learning\")\n",
        "\n",
        "user_input_vectorized = vectorizer.transform([user_input])\n",
        "predicted_label = model.predict(user_input_vectorized)\n",
        "print(f\"The input text belongs to the '{predicted_label[0]}' category.\")"
      ],
      "metadata": {
        "colab": {
          "base_uri": "https://localhost:8080/"
        },
        "id": "U94YQU5McGdK",
        "outputId": "a2dc3f5a-ac6a-4e9f-a29d-403b43407646"
      },
      "execution_count": 13,
      "outputs": [
        {
          "output_type": "stream",
          "name": "stdout",
          "text": [
            "The input text belongs to the 'Technology' category.\n"
          ]
        }
      ]
    }
  ]
}