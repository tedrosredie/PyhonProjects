{
  "nbformat": 4,
  "nbformat_minor": 0,
  "metadata": {
    "colab": {
      "provenance": [],
      "authorship_tag": "ABX9TyP+VXCWJSowKi2Eqd3vbBw9"
    },
    "kernelspec": {
      "name": "python3",
      "display_name": "Python 3"
    },
    "language_info": {
      "name": "python"
    }
  },
  "cells": [
    {
      "cell_type": "code",
      "execution_count": 3,
      "metadata": {
        "id": "Qh2BRxJqRMiS"
      },
      "outputs": [],
      "source": [
        "# Import the necessary libraries\n",
        "import pandas as pd\n",
        "import numpy as np\n",
        "import matplotlib.pyplot as plt\n",
        "from sklearn.cluster import KMeans\n",
        "from sklearn.preprocessing import StandardScaler"
      ]
    },
    {
      "cell_type": "code",
      "source": [
        "# Create the DataFrame\n",
        "df = pd.DataFrame({'points': [18, np.nan, 19, 14, 14, 11, 20, 28, 30, 31,\n",
        "                              35, 33, 29, 25, 25, 27, 29, 30, 19, 23],\n",
        "                   'assists': [3, 3, 4, 5, 4, 7, 8, 7, 6, 9, 12, 14,\n",
        "                               np.nan, 9, 4, 3, 4, 12, 15, 11],\n",
        "                   'rebounds': [15, 14, 14, 10, 8, 14, 13, 9, 5, 4,\n",
        "                                11, 6, 5, 5, 3, 8, 12, 7, 6, 5]})\n",
        "\n",
        "#view first five rows of DataFrame\n",
        "print(df.head())\n"
      ],
      "metadata": {
        "colab": {
          "base_uri": "https://localhost:8080/"
        },
        "id": "DiqfnifZRWjJ",
        "outputId": "8817fd95-4669-4994-bb53-1debc7dfc6ac"
      },
      "execution_count": 4,
      "outputs": [
        {
          "output_type": "stream",
          "name": "stdout",
          "text": [
            "   points  assists  rebounds\n",
            "0    18.0      3.0        15\n",
            "1     NaN      3.0        14\n",
            "2    19.0      4.0        14\n",
            "3    14.0      5.0        10\n",
            "4    14.0      4.0         8\n"
          ]
        }
      ]
    },
    {
      "cell_type": "code",
      "source": [
        "# Clean and prep the dataframe\n",
        "#drop rows with NA values in any columns\n",
        "df = df.dropna()\n",
        "\n",
        "#create scaled DataFrame where each variable has mean of 0 and standard dev of 1\n",
        "scaled_df = StandardScaler().fit_transform(df)\n",
        "\n",
        "#view first five rows of scaled DataFrame\n",
        "print(scaled_df[:5])\n"
      ],
      "metadata": {
        "colab": {
          "base_uri": "https://localhost:8080/"
        },
        "id": "uXo6IRX9RvhI",
        "outputId": "b90683df-311a-495d-e10b-ea4276fcdbed"
      },
      "execution_count": 5,
      "outputs": [
        {
          "output_type": "stream",
          "name": "stdout",
          "text": [
            "[[-0.86660275 -1.22683918  1.72722524]\n",
            " [-0.72081911 -0.96077767  1.45687694]\n",
            " [-1.44973731 -0.69471616  0.37548375]\n",
            " [-1.44973731 -0.96077767 -0.16521285]\n",
            " [-1.88708823 -0.16259314  1.45687694]]\n"
          ]
        }
      ]
    },
    {
      "cell_type": "code",
      "source": [
        "# Find the optimal number of clusters\n",
        "#initialize kmeans parameters\n",
        "kmeans_kwargs = {\n",
        "\"init\": \"random\",\n",
        "\"n_init\": 10,\n",
        "\"random_state\": 1,\n",
        "}\n",
        "\n",
        "#create list to hold SSE values for each k\n",
        "sse = []\n",
        "for k in range(1, 11):\n",
        "    kmeans = KMeans(n_clusters=k, **kmeans_kwargs)\n",
        "    kmeans.fit(scaled_df)\n",
        "    sse.append(kmeans.inertia_)\n",
        "\n",
        "#visualize results\n",
        "plt.plot(range(1, 11), sse)\n",
        "plt.xticks(range(1, 11))\n",
        "plt.xlabel(\"Number of Clusters\")\n",
        "plt.ylabel(\"SSE\")\n",
        "plt.show()"
      ],
      "metadata": {
        "colab": {
          "base_uri": "https://localhost:8080/",
          "height": 449
        },
        "id": "kvtVIxu1R2cN",
        "outputId": "22da8139-6e80-45d3-a15d-968e4068a343"
      },
      "execution_count": 6,
      "outputs": [
        {
          "output_type": "display_data",
          "data": {
            "text/plain": [
              "<Figure size 640x480 with 1 Axes>"
            ],
            "image/png": "[encoded data removed]"
          },
          "metadata": {}
        }
      ]
    },
    {
      "cell_type": "code",
      "source": [
        "# Perform the k-means clustering with optimal k\n",
        "#instantiate the k-means class, using optimal number of clusters\n",
        "kmeans = KMeans(init=\"random\", n_clusters=3, n_init=10, random_state=1)\n",
        "\n",
        "#fit k-means algorithm to data\n",
        "kmeans.fit(scaled_df)\n",
        "\n",
        "#view cluster assignments for each observation\n",
        "kmeans.labels_"
      ],
      "metadata": {
        "colab": {
          "base_uri": "https://localhost:8080/"
        },
        "id": "7T-wYnd3SDG5",
        "outputId": "43a1baf8-9272-4076-967f-ba806cb4f8fe"
      },
      "execution_count": 7,
      "outputs": [
        {
          "output_type": "execute_result",
          "data": {
            "text/plain": [
              "array([2, 2, 2, 2, 2, 2, 1, 1, 0, 0, 0, 0, 1, 1, 1, 0, 0, 0], dtype=int32)"
            ]
          },
          "metadata": {},
          "execution_count": 7
        }
      ]
    },
    {
      "cell_type": "code",
      "source": [
        "#append cluster assingments to original DataFrame\n",
        "df['cluster'] = kmeans.labels_\n",
        "\n",
        "#view updated DataFrame\n",
        "print(df)\n"
      ],
      "metadata": {
        "colab": {
          "base_uri": "https://localhost:8080/"
        },
        "id": "JyrYaJjOSOYd",
        "outputId": "17c13e5b-0ea5-4818-e24d-7ffee118f069"
      },
      "execution_count": 8,
      "outputs": [
        {
          "output_type": "stream",
          "name": "stdout",
          "text": [
            "    points  assists  rebounds  cluster\n",
            "0     18.0      3.0        15        2\n",
            "2     19.0      4.0        14        2\n",
            "3     14.0      5.0        10        2\n",
            "4     14.0      4.0         8        2\n",
            "5     11.0      7.0        14        2\n",
            "6     20.0      8.0        13        2\n",
            "7     28.0      7.0         9        1\n",
            "8     30.0      6.0         5        1\n",
            "9     31.0      9.0         4        0\n",
            "10    35.0     12.0        11        0\n",
            "11    33.0     14.0         6        0\n",
            "13    25.0      9.0         5        0\n",
            "14    25.0      4.0         3        1\n",
            "15    27.0      3.0         8        1\n",
            "16    29.0      4.0        12        1\n",
            "17    30.0     12.0         7        0\n",
            "18    19.0     15.0         6        0\n",
            "19    23.0     11.0         5        0\n"
          ]
        }
      ]
    }
  ]
}