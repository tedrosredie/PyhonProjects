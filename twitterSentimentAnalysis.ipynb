{
  "nbformat": 4,
  "nbformat_minor": 0,
  "metadata": {
    "colab": {
      "provenance": [],
      "authorship_tag": "ABX9TyN9cdv6UTCc/MUhw61Ze9UX"
    },
    "kernelspec": {
      "name": "python3",
      "display_name": "Python 3"
    },
    "language_info": {
      "name": "python"
    }
  },
  "cells": [
    {
      "cell_type": "markdown",
      "source": [
        "Twitter Sentiment Analysis is the process of using Python to understand the emotions or opinions expressed in tweets automatically. By analyzing the text we can classify tweets as positive, negative or neutral. This helps businesses and researchers track public mood, brand reputation or reactions to events in real time. Python libraries like TextBlob, Tweepy and NLTK make it easy to collect tweets, process the text and perform sentiment analysis efficiently.\n",
        "\n",
        "**How is Twitter Sentiment Analysis Useful?**\n",
        "\n",
        "Twitter Sentiment Analysis is important because it helps people and businesses understand what the public thinks in real time.\n",
        "\n",
        "Millions of tweets are posted every day, sharing opinions about brands, products, events or social issues. By analyzing this huge stream of data, companies can measure customer satisfaction, spot trends early, handle negative feedback quickly and make better decisions based on how people actually feel.\n",
        "\n",
        "It’s also useful for researchers and governments to monitor public mood during elections, crises or big events as it turns raw tweets into valuable insights."
      ],
      "metadata": {
        "id": "KrVcyXZOyRB1"
      }
    },
    {
      "cell_type": "markdown",
      "source": [
        "# **Step by Step Implementation**\n",
        "**Step 1: Import Necessary Libraries**\n",
        "\n",
        "This block imports the required libraries. It uses pandas to load and handle data, TfidfVectorizer to turn text into numbers and scikit learn to train model."
      ],
      "metadata": {
        "id": "xuCmzHfizLVq"
      }
    },
    {
      "cell_type": "code",
      "execution_count": 1,
      "metadata": {
        "id": "4-iaigaXwFB0"
      },
      "outputs": [],
      "source": [
        "\n",
        "import pandas as pd\n",
        "from sklearn.feature_extraction.text import TfidfVectorizer\n",
        "from sklearn.model_selection import train_test_split\n",
        "from sklearn.naive_bayes import BernoulliNB\n",
        "from sklearn.linear_model import LogisticRegression\n",
        "from sklearn.svm import LinearSVC\n",
        "from sklearn.metrics import accuracy_score, classification_report"
      ]
    },
    {
      "cell_type": "markdown",
      "source": [
        "**Step 2: Load Dataset**\n",
        "\n",
        "Here we loads the Sentiment140 dataset from a zipped CSV file, you can download it from Kaggle.\n",
        "\n",
        "We keep only the polarity and tweet text columns, renames them for clarity and prints the first few rows to check the data."
      ],
      "metadata": {
        "id": "URzJ2bN9zWZ_"
      }
    },
    {
      "cell_type": "code",
      "source": [
        "df = pd.read_csv('/content/sample_data/training.1600000.processed.noemoticon.csv.zip.zip', encoding='latin-1', header=None)\n",
        "df = df[[0, 5]]\n",
        "df.columns = ['polarity', 'text']\n",
        "print(df.head())"
      ],
      "metadata": {
        "colab": {
          "base_uri": "https://localhost:8080/"
        },
        "id": "LuZezTIlwJuN",
        "outputId": "51b55160-2213-46fd-9ee8-8251b14e02f0"
      },
      "execution_count": 2,
      "outputs": [
        {
          "output_type": "stream",
          "name": "stdout",
          "text": [
            "   polarity                                               text\n",
            "0         0  @switchfoot http://twitpic.com/2y1zl - Awww, t...\n",
            "1         0  is upset that he can't update his Facebook by ...\n",
            "2         0  @Kenichan I dived many times for the ball. Man...\n",
            "3         0    my whole body feels itchy and like its on fire \n",
            "4         0  @nationwideclass no, it's not behaving at all....\n"
          ]
        }
      ]
    },
    {
      "cell_type": "markdown",
      "source": [
        "**Step 3: Keep Only Positive and Negative Sentiments**\n",
        "\n",
        "Here we removes neutral tweets where polarity is 2, maps the labels so 0 stays negative and 4 becomes 1 for positive.\n",
        "\n",
        "Then we print how many positive and negative tweets are left in the data."
      ],
      "metadata": {
        "id": "kVCIw1-k5YSU"
      }
    },
    {
      "cell_type": "code",
      "source": [
        "df = df[df.polarity != 2]\n",
        "\n",
        "df['polarity'] = df['polarity'].map({0: 0, 4: 1})\n",
        "\n",
        "print(df['polarity'].value_counts())"
      ],
      "metadata": {
        "colab": {
          "base_uri": "https://localhost:8080/"
        },
        "id": "6kLwdFDZxnsi",
        "outputId": "4a9e9d97-5be0-49e4-e9c5-fef1ed9647d5"
      },
      "execution_count": 3,
      "outputs": [
        {
          "output_type": "stream",
          "name": "stdout",
          "text": [
            "polarity\n",
            "0    800000\n",
            "1    800000\n",
            "Name: count, dtype: int64\n"
          ]
        }
      ]
    },
    {
      "cell_type": "markdown",
      "source": [
        "**Step 4: Clean the Tweets**\n",
        "\n",
        "Here we define a simple function to convert all text to lowercase for consistency, applies it to every tweet in the dataset.\n",
        "\n",
        "Then shows the original and cleaned versions of the first few tweets."
      ],
      "metadata": {
        "id": "R5CWjkJt5gzF"
      }
    },
    {
      "cell_type": "code",
      "source": [
        "def clean_text(text):\n",
        "    return text.lower()\n",
        "\n",
        "df['clean_text'] = df['text'].apply(clean_text)\n",
        "\n",
        "print(df[['text', 'clean_text']].head())"
      ],
      "metadata": {
        "colab": {
          "base_uri": "https://localhost:8080/"
        },
        "id": "zkGcSD-axsgX",
        "outputId": "84d04e7b-5bda-42e2-ba2d-208676fc6ac0"
      },
      "execution_count": 4,
      "outputs": [
        {
          "output_type": "stream",
          "name": "stdout",
          "text": [
            "                                                text  \\\n",
            "0  @switchfoot http://twitpic.com/2y1zl - Awww, t...   \n",
            "1  is upset that he can't update his Facebook by ...   \n",
            "2  @Kenichan I dived many times for the ball. Man...   \n",
            "3    my whole body feels itchy and like its on fire    \n",
            "4  @nationwideclass no, it's not behaving at all....   \n",
            "\n",
            "                                          clean_text  \n",
            "0  @switchfoot http://twitpic.com/2y1zl - awww, t...  \n",
            "1  is upset that he can't update his facebook by ...  \n",
            "2  @kenichan i dived many times for the ball. man...  \n",
            "3    my whole body feels itchy and like its on fire   \n",
            "4  @nationwideclass no, it's not behaving at all....  \n"
          ]
        }
      ]
    },
    {
      "cell_type": "markdown",
      "source": [
        "**Step 5: Train Test Split**\n",
        "\n",
        "This code splits the clean_text and polarity columns into training and testing sets using an 80/20 split.\n",
        "\n",
        "random_state=42 ensures reproducibility."
      ],
      "metadata": {
        "id": "yuOiStlY5vQ1"
      }
    },
    {
      "cell_type": "code",
      "source": [
        "X_train, X_test, y_train, y_test = train_test_split(\n",
        "    df['clean_text'],\n",
        "    df['polarity'],\n",
        "    test_size=0.2,\n",
        "    random_state=42\n",
        ")\n",
        "\n",
        "print(\"Train size:\", len(X_train))\n",
        "print(\"Test size:\", len(X_test))"
      ],
      "metadata": {
        "colab": {
          "base_uri": "https://localhost:8080/"
        },
        "id": "HoUxsr2Zxvo3",
        "outputId": "ad8c3939-d817-4b9a-c1bd-2637ca3d8125"
      },
      "execution_count": 5,
      "outputs": [
        {
          "output_type": "stream",
          "name": "stdout",
          "text": [
            "Train size: 1280000\n",
            "Test size: 320000\n"
          ]
        }
      ]
    },
    {
      "cell_type": "markdown",
      "source": [
        "**Step 6: Perform Vectorization**\n",
        "\n",
        "This code creates a TF IDF vectorizer that converts text into numerical features using unigrams and bigrams limited to 5000 features.\n",
        "\n",
        "It fits and transforms the training data and transforms the test data and then prints the shapes of the resulting TF IDF matrices."
      ],
      "metadata": {
        "id": "K3KVRYWm506B"
      }
    },
    {
      "cell_type": "code",
      "source": [
        "vectorizer = TfidfVectorizer(max_features=5000, ngram_range=(1,2))\n",
        "\n",
        "X_train_tfidf = vectorizer.fit_transform(X_train)\n",
        "X_test_tfidf = vectorizer.transform(X_test)\n",
        "\n",
        "print(\"TF-IDF shape (train):\", X_train_tfidf.shape)\n",
        "print(\"TF-IDF shape (test):\", X_test_tfidf.shape)"
      ],
      "metadata": {
        "colab": {
          "base_uri": "https://localhost:8080/"
        },
        "id": "j3v5REX6x3Tb",
        "outputId": "0f72ffc7-af33-4655-cf09-5daf27e72eaa"
      },
      "execution_count": 6,
      "outputs": [
        {
          "output_type": "stream",
          "name": "stdout",
          "text": [
            "TF-IDF shape (train): (1280000, 5000)\n",
            "TF-IDF shape (test): (320000, 5000)\n"
          ]
        }
      ]
    },
    {
      "cell_type": "markdown",
      "source": [
        "**Step 7: Train Bernoulli Naive Bayes model**\n",
        "\n",
        "Here we train a Bernoulli Naive Bayes classifier on the TF IDF features from the training data.\n",
        "\n",
        "It predicts sentiments for the test data and then prints the accuracy and a detailed classification report."
      ],
      "metadata": {
        "id": "oWZ38zvf5-rx"
      }
    },
    {
      "cell_type": "code",
      "source": [
        "bnb = BernoulliNB()\n",
        "bnb.fit(X_train_tfidf, y_train)\n",
        "\n",
        "bnb_pred = bnb.predict(X_test_tfidf)\n",
        "\n",
        "print(\"Bernoulli Naive Bayes Accuracy:\", accuracy_score(y_test, bnb_pred))\n",
        "print(\"\\nBernoulliNB Classification Report:\\n\", classification_report(y_test, bnb_pred))"
      ],
      "metadata": {
        "colab": {
          "base_uri": "https://localhost:8080/"
        },
        "id": "PFAJI_sQx6po",
        "outputId": "fed50b2a-80b9-408f-f35d-1f2787d0bbf0"
      },
      "execution_count": 7,
      "outputs": [
        {
          "output_type": "stream",
          "name": "stdout",
          "text": [
            "Bernoulli Naive Bayes Accuracy: 0.766478125\n",
            "\n",
            "BernoulliNB Classification Report:\n",
            "               precision    recall  f1-score   support\n",
            "\n",
            "           0       0.77      0.75      0.76    159494\n",
            "           1       0.76      0.78      0.77    160506\n",
            "\n",
            "    accuracy                           0.77    320000\n",
            "   macro avg       0.77      0.77      0.77    320000\n",
            "weighted avg       0.77      0.77      0.77    320000\n",
            "\n"
          ]
        }
      ]
    },
    {
      "cell_type": "markdown",
      "source": [
        "**Step 8: Train Support Vector Machine (SVM) model**\n",
        "\n",
        "This code trains a Support Vector Machine (SVM) with a maximum of 1000 iterations on the TF IDF features.\n",
        "\n",
        "It predicts test labels then prints the accuracy and a detailed classification report showing how well the SVM performed."
      ],
      "metadata": {
        "id": "jRHnlQYA6Fb_"
      }
    },
    {
      "cell_type": "code",
      "source": [
        "svm = LinearSVC(max_iter=1000)\n",
        "svm.fit(X_train_tfidf, y_train)\n",
        "\n",
        "svm_pred = svm.predict(X_test_tfidf)\n",
        "\n",
        "print(\"SVM Accuracy:\", accuracy_score(y_test, svm_pred))\n",
        "print(\"\\nSVM Classification Report:\\n\", classification_report(y_test, svm_pred))"
      ],
      "metadata": {
        "colab": {
          "base_uri": "https://localhost:8080/"
        },
        "id": "w1cFOwUkys98",
        "outputId": "5b4980ad-d2a5-4df6-9221-428b82ded1f0"
      },
      "execution_count": 8,
      "outputs": [
        {
          "output_type": "stream",
          "name": "stdout",
          "text": [
            "SVM Accuracy: 0.79528125\n",
            "\n",
            "SVM Classification Report:\n",
            "               precision    recall  f1-score   support\n",
            "\n",
            "           0       0.80      0.78      0.79    159494\n",
            "           1       0.79      0.81      0.80    160506\n",
            "\n",
            "    accuracy                           0.80    320000\n",
            "   macro avg       0.80      0.80      0.80    320000\n",
            "weighted avg       0.80      0.80      0.80    320000\n",
            "\n"
          ]
        }
      ]
    },
    {
      "cell_type": "markdown",
      "source": [
        "**Step 9: Train Logistic Regression model**\n",
        "\n",
        "This code trains a Logistic Regression model with up to 100 iterations on the TF IDF features.\n",
        "\n",
        "It predicts sentiment labels for the test data and prints the accuracy and detailed classification report for model evaluation."
      ],
      "metadata": {
        "id": "Iu-f9aT2zCsa"
      }
    },
    {
      "cell_type": "code",
      "source": [
        "logreg = LogisticRegression(max_iter=100)\n",
        "logreg.fit(X_train_tfidf, y_train)\n",
        "\n",
        "logreg_pred = logreg.predict(X_test_tfidf)\n",
        "\n",
        "print(\"Logistic Regression Accuracy:\", accuracy_score(y_test, logreg_pred))\n",
        "print(\"\\nLogistic Regression Classification Report:\\n\", classification_report(y_test, logreg_pred))"
      ],
      "metadata": {
        "colab": {
          "base_uri": "https://localhost:8080/"
        },
        "id": "kZ6K0UaAyxTz",
        "outputId": "37e50fa3-cfa8-4113-ffe9-1834e08fdb83"
      },
      "execution_count": 9,
      "outputs": [
        {
          "output_type": "stream",
          "name": "stdout",
          "text": [
            "Logistic Regression Accuracy: 0.79539375\n",
            "\n",
            "Logistic Regression Classification Report:\n",
            "               precision    recall  f1-score   support\n",
            "\n",
            "           0       0.80      0.78      0.79    159494\n",
            "           1       0.79      0.81      0.80    160506\n",
            "\n",
            "    accuracy                           0.80    320000\n",
            "   macro avg       0.80      0.80      0.80    320000\n",
            "weighted avg       0.80      0.80      0.80    320000\n",
            "\n"
          ]
        }
      ]
    },
    {
      "cell_type": "markdown",
      "source": [
        "**Step 10: Make Predictions on sample Tweets**\n",
        "\n",
        "This code takes three sample tweets and transforms them into TF IDF features using the same vectorizer.\n",
        "\n",
        "It then predicts their sentiment using the trained BernoulliNB, SVM and Logistic Regression models and prints the results for each classifier.\n",
        "\n",
        "Where 1 stands for Positive and 0 for Negative."
      ],
      "metadata": {
        "id": "tFK6lGpCzT3b"
      }
    },
    {
      "cell_type": "code",
      "source": [
        "sample_tweets = [\"I love this!\", \"I hate that!\", \"It was okay, not great.\"]\n",
        "sample_vec = vectorizer.transform(sample_tweets)\n",
        "\n",
        "print(\"\\nSample Predictions:\")\n",
        "print(\"BernoulliNB:\", bnb.predict(sample_vec))\n",
        "print(\"SVM:\", svm.predict(sample_vec))\n",
        "print(\"Logistic Regression:\", logreg.predict(sample_vec))"
      ],
      "metadata": {
        "colab": {
          "base_uri": "https://localhost:8080/"
        },
        "id": "7l-paF-ezRns",
        "outputId": "268a4c77-e36a-4f07-d13e-246ea049184c"
      },
      "execution_count": 10,
      "outputs": [
        {
          "output_type": "stream",
          "name": "stdout",
          "text": [
            "\n",
            "Sample Predictions:\n",
            "BernoulliNB: [1 0 1]\n",
            "SVM: [1 0 1]\n",
            "Logistic Regression: [1 0 1]\n"
          ]
        }
      ]
    }
  ]
}